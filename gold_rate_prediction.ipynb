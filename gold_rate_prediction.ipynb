{
  "nbformat": 4,
  "nbformat_minor": 0,
  "metadata": {
    "colab": {
      "name": "Copy of gold_rate_prediction.ipynb",
      "provenance": [],
      "authorship_tag": "ABX9TyM0sK5KScVhQXFAOep2gJcz",
      "include_colab_link": true
    },
    "kernelspec": {
      "name": "python3",
      "display_name": "Python 3"
    },
    "language_info": {
      "name": "python"
    },
    "accelerator": "GPU"
  },
  "cells": [
    {
      "cell_type": "markdown",
      "metadata": {
        "id": "view-in-github",
        "colab_type": "text"
      },
      "source": [
        "<a href=\"https://colab.research.google.com/github/Mayank57/Gold_rate_prediction/blob/main/Copy_of_gold_rate_prediction.ipynb\" target=\"_parent\"><img src=\"https://colab.research.google.com/assets/colab-badge.svg\" alt=\"Open In Colab\"/></a>"
      ]
    },
    {
      "cell_type": "code",
      "metadata": {
        "colab": {
          "base_uri": "https://localhost:8080/"
        },
        "id": "nmzs3Tj76nNm",
        "outputId": "09280754-1136-4f63-e978-8fb5df6139ed"
      },
      "source": [
        "import tensorflow as tf\n",
        "device_name = tf.test.gpu_device_name()\n",
        "if device_name != '/device:GPU:0':\n",
        "  raise SystemError('GPU device not found')\n",
        "print('Found GPU at: {}'.format(device_name))"
      ],
      "execution_count": 1,
      "outputs": [
        {
          "output_type": "stream",
          "text": [
            "Found GPU at: /device:GPU:0\n"
          ],
          "name": "stdout"
        }
      ]
    },
    {
      "cell_type": "code",
      "metadata": {
        "colab": {
          "base_uri": "https://localhost:8080/"
        },
        "id": "FDnXMQ2X6_nv",
        "outputId": "05088a0e-96a0-4a35-cebb-13aa5a8055cf"
      },
      "source": [
        "from google.colab import drive\n",
        "drive.mount('/content/drive')"
      ],
      "execution_count": 2,
      "outputs": [
        {
          "output_type": "stream",
          "text": [
            "Mounted at /content/drive\n"
          ],
          "name": "stdout"
        }
      ]
    },
    {
      "cell_type": "code",
      "metadata": {
        "colab": {
          "base_uri": "https://localhost:8080/"
        },
        "id": "rhlSGqNY7-lJ",
        "outputId": "399e9a1d-4097-4e02-b7db-78052be068cd"
      },
      "source": [
        "import pandas as pd\n",
        "import numpy as np\n",
        "import matplotlib.pyplot as plt\n",
        "from statsmodels.tsa.arima_model import ARIMA\n",
        "from statsmodels.tsa.stattools import adfuller\n",
        "from sklearn.model_selection import TimeSeriesSplit\n",
        "from sklearn.metrics import mean_absolute_error\n",
        "from sklearn.metrics import r2_score\n",
        "from statsmodels.tsa.stattools import acf, pacf"
      ],
      "execution_count": 3,
      "outputs": [
        {
          "output_type": "stream",
          "text": [
            "/usr/local/lib/python3.7/dist-packages/statsmodels/tools/_testing.py:19: FutureWarning: pandas.util.testing is deprecated. Use the functions in the public API at pandas.testing instead.\n",
            "  import pandas.util.testing as tm\n"
          ],
          "name": "stderr"
        }
      ]
    },
    {
      "cell_type": "code",
      "metadata": {
        "colab": {
          "base_uri": "https://localhost:8080/"
        },
        "id": "5ZgfMYoi7Bm0",
        "outputId": "5d4772cd-d7f6-422f-d7de-96b14312f891"
      },
      "source": [
        "path = \"/content/drive/MyDrive/gold_data/gld_price_data.csv\"\n",
        "data1 = pd.read_csv(path)\n",
        "print(data1)\n",
        "column_name = 'GLD'\n",
        "data = data1[['Date', column_name]]"
      ],
      "execution_count": 4,
      "outputs": [
        {
          "output_type": "stream",
          "text": [
            "           Date          SPX         GLD        USO      SLV   EUR/USD\n",
            "0      1/2/2008  1447.160034   84.860001  78.470001  15.1800  1.471692\n",
            "1      1/3/2008  1447.160034   85.570000  78.370003  15.2850  1.474491\n",
            "2      1/4/2008  1411.630005   85.129997  77.309998  15.1670  1.475492\n",
            "3      1/7/2008  1416.180054   84.769997  75.500000  15.0530  1.468299\n",
            "4      1/8/2008  1390.189941   86.779999  76.059998  15.5900  1.557099\n",
            "...         ...          ...         ...        ...      ...       ...\n",
            "2285   5/8/2018  2671.919922  124.589996  14.060000  15.5100  1.186789\n",
            "2286   5/9/2018  2697.790039  124.330002  14.370000  15.5300  1.184722\n",
            "2287  5/10/2018  2723.070068  125.180000  14.410000  15.7400  1.191753\n",
            "2288  5/14/2018  2730.129883  124.489998  14.380000  15.5600  1.193118\n",
            "2289  5/16/2018  2725.780029  122.543800  14.405800  15.4542  1.182033\n",
            "\n",
            "[2290 rows x 6 columns]\n"
          ],
          "name": "stdout"
        }
      ]
    },
    {
      "cell_type": "code",
      "metadata": {
        "colab": {
          "base_uri": "https://localhost:8080/",
          "height": 295
        },
        "id": "vu60DkJwRM4-",
        "outputId": "1e65d438-6eae-4a7b-9cbb-0a7471bd3119"
      },
      "source": [
        "data.describe()"
      ],
      "execution_count": 5,
      "outputs": [
        {
          "output_type": "execute_result",
          "data": {
            "text/html": [
              "<div>\n",
              "<style scoped>\n",
              "    .dataframe tbody tr th:only-of-type {\n",
              "        vertical-align: middle;\n",
              "    }\n",
              "\n",
              "    .dataframe tbody tr th {\n",
              "        vertical-align: top;\n",
              "    }\n",
              "\n",
              "    .dataframe thead th {\n",
              "        text-align: right;\n",
              "    }\n",
              "</style>\n",
              "<table border=\"1\" class=\"dataframe\">\n",
              "  <thead>\n",
              "    <tr style=\"text-align: right;\">\n",
              "      <th></th>\n",
              "      <th>GLD</th>\n",
              "    </tr>\n",
              "  </thead>\n",
              "  <tbody>\n",
              "    <tr>\n",
              "      <th>count</th>\n",
              "      <td>2290.000000</td>\n",
              "    </tr>\n",
              "    <tr>\n",
              "      <th>mean</th>\n",
              "      <td>122.732875</td>\n",
              "    </tr>\n",
              "    <tr>\n",
              "      <th>std</th>\n",
              "      <td>23.283346</td>\n",
              "    </tr>\n",
              "    <tr>\n",
              "      <th>min</th>\n",
              "      <td>70.000000</td>\n",
              "    </tr>\n",
              "    <tr>\n",
              "      <th>25%</th>\n",
              "      <td>109.725000</td>\n",
              "    </tr>\n",
              "    <tr>\n",
              "      <th>50%</th>\n",
              "      <td>120.580002</td>\n",
              "    </tr>\n",
              "    <tr>\n",
              "      <th>75%</th>\n",
              "      <td>132.840004</td>\n",
              "    </tr>\n",
              "    <tr>\n",
              "      <th>max</th>\n",
              "      <td>184.589996</td>\n",
              "    </tr>\n",
              "  </tbody>\n",
              "</table>\n",
              "</div>"
            ],
            "text/plain": [
              "               GLD\n",
              "count  2290.000000\n",
              "mean    122.732875\n",
              "std      23.283346\n",
              "min      70.000000\n",
              "25%     109.725000\n",
              "50%     120.580002\n",
              "75%     132.840004\n",
              "max     184.589996"
            ]
          },
          "metadata": {
            "tags": []
          },
          "execution_count": 5
        }
      ]
    },
    {
      "cell_type": "code",
      "metadata": {
        "colab": {
          "base_uri": "https://localhost:8080/"
        },
        "id": "unSMbZV8ROfr",
        "outputId": "26886812-5266-491f-f1e5-0baca633aa39"
      },
      "source": [
        "data.info()"
      ],
      "execution_count": 6,
      "outputs": [
        {
          "output_type": "stream",
          "text": [
            "<class 'pandas.core.frame.DataFrame'>\n",
            "RangeIndex: 2290 entries, 0 to 2289\n",
            "Data columns (total 2 columns):\n",
            " #   Column  Non-Null Count  Dtype  \n",
            "---  ------  --------------  -----  \n",
            " 0   Date    2290 non-null   object \n",
            " 1   GLD     2290 non-null   float64\n",
            "dtypes: float64(1), object(1)\n",
            "memory usage: 35.9+ KB\n"
          ],
          "name": "stdout"
        }
      ]
    },
    {
      "cell_type": "code",
      "metadata": {
        "colab": {
          "base_uri": "https://localhost:8080/",
          "height": 282
        },
        "id": "obWT4StOkvT9",
        "outputId": "275e9045-150c-4794-e659-aadfde410194"
      },
      "source": [
        "plt.plot(data['Date'], data[column_name])"
      ],
      "execution_count": 7,
      "outputs": [
        {
          "output_type": "execute_result",
          "data": {
            "text/plain": [
              "[<matplotlib.lines.Line2D at 0x7fb1c2d78c10>]"
            ]
          },
          "metadata": {
            "tags": []
          },
          "execution_count": 7
        },
        {
          "output_type": "display_data",
          "data": {
            "image/png": "[encoded data removed]",
            "text/plain": [
              "<Figure size 432x288 with 1 Axes>"
            ]
          },
          "metadata": {
            "tags": [],
            "needs_background": "light"
          }
        }
      ]
    },
    {
      "cell_type": "code",
      "metadata": {
        "colab": {
          "base_uri": "https://localhost:8080/",
          "height": 417
        },
        "id": "w3Loa42T8Dej",
        "outputId": "f70a18ce-9355-41ee-d1a7-aceebc2a59f6"
      },
      "source": [
        "data = data.dropna()\n",
        "data"
      ],
      "execution_count": 8,
      "outputs": [
        {
          "output_type": "execute_result",
          "data": {
            "text/html": [
              "<div>\n",
              "<style scoped>\n",
              "    .dataframe tbody tr th:only-of-type {\n",
              "        vertical-align: middle;\n",
              "    }\n",
              "\n",
              "    .dataframe tbody tr th {\n",
              "        vertical-align: top;\n",
              "    }\n",
              "\n",
              "    .dataframe thead th {\n",
              "        text-align: right;\n",
              "    }\n",
              "</style>\n",
              "<table border=\"1\" class=\"dataframe\">\n",
              "  <thead>\n",
              "    <tr style=\"text-align: right;\">\n",
              "      <th></th>\n",
              "      <th>Date</th>\n",
              "      <th>GLD</th>\n",
              "    </tr>\n",
              "  </thead>\n",
              "  <tbody>\n",
              "    <tr>\n",
              "      <th>0</th>\n",
              "      <td>1/2/2008</td>\n",
              "      <td>84.860001</td>\n",
              "    </tr>\n",
              "    <tr>\n",
              "      <th>1</th>\n",
              "      <td>1/3/2008</td>\n",
              "      <td>85.570000</td>\n",
              "    </tr>\n",
              "    <tr>\n",
              "      <th>2</th>\n",
              "      <td>1/4/2008</td>\n",
              "      <td>85.129997</td>\n",
              "    </tr>\n",
              "    <tr>\n",
              "      <th>3</th>\n",
              "      <td>1/7/2008</td>\n",
              "      <td>84.769997</td>\n",
              "    </tr>\n",
              "    <tr>\n",
              "      <th>4</th>\n",
              "      <td>1/8/2008</td>\n",
              "      <td>86.779999</td>\n",
              "    </tr>\n",
              "    <tr>\n",
              "      <th>...</th>\n",
              "      <td>...</td>\n",
              "      <td>...</td>\n",
              "    </tr>\n",
              "    <tr>\n",
              "      <th>2285</th>\n",
              "      <td>5/8/2018</td>\n",
              "      <td>124.589996</td>\n",
              "    </tr>\n",
              "    <tr>\n",
              "      <th>2286</th>\n",
              "      <td>5/9/2018</td>\n",
              "      <td>124.330002</td>\n",
              "    </tr>\n",
              "    <tr>\n",
              "      <th>2287</th>\n",
              "      <td>5/10/2018</td>\n",
              "      <td>125.180000</td>\n",
              "    </tr>\n",
              "    <tr>\n",
              "      <th>2288</th>\n",
              "      <td>5/14/2018</td>\n",
              "      <td>124.489998</td>\n",
              "    </tr>\n",
              "    <tr>\n",
              "      <th>2289</th>\n",
              "      <td>5/16/2018</td>\n",
              "      <td>122.543800</td>\n",
              "    </tr>\n",
              "  </tbody>\n",
              "</table>\n",
              "<p>2290 rows × 2 columns</p>\n",
              "</div>"
            ],
            "text/plain": [
              "           Date         GLD\n",
              "0      1/2/2008   84.860001\n",
              "1      1/3/2008   85.570000\n",
              "2      1/4/2008   85.129997\n",
              "3      1/7/2008   84.769997\n",
              "4      1/8/2008   86.779999\n",
              "...         ...         ...\n",
              "2285   5/8/2018  124.589996\n",
              "2286   5/9/2018  124.330002\n",
              "2287  5/10/2018  125.180000\n",
              "2288  5/14/2018  124.489998\n",
              "2289  5/16/2018  122.543800\n",
              "\n",
              "[2290 rows x 2 columns]"
            ]
          },
          "metadata": {
            "tags": []
          },
          "execution_count": 8
        }
      ]
    },
    {
      "cell_type": "code",
      "metadata": {
        "colab": {
          "base_uri": "https://localhost:8080/",
          "height": 447
        },
        "id": "yJ-TACJ38cwp",
        "outputId": "e908912f-f9b1-4233-eefb-fde2cc749953"
      },
      "source": [
        "data.set_index('Date', inplace = True)\n",
        "data"
      ],
      "execution_count": 9,
      "outputs": [
        {
          "output_type": "execute_result",
          "data": {
            "text/html": [
              "<div>\n",
              "<style scoped>\n",
              "    .dataframe tbody tr th:only-of-type {\n",
              "        vertical-align: middle;\n",
              "    }\n",
              "\n",
              "    .dataframe tbody tr th {\n",
              "        vertical-align: top;\n",
              "    }\n",
              "\n",
              "    .dataframe thead th {\n",
              "        text-align: right;\n",
              "    }\n",
              "</style>\n",
              "<table border=\"1\" class=\"dataframe\">\n",
              "  <thead>\n",
              "    <tr style=\"text-align: right;\">\n",
              "      <th></th>\n",
              "      <th>GLD</th>\n",
              "    </tr>\n",
              "    <tr>\n",
              "      <th>Date</th>\n",
              "      <th></th>\n",
              "    </tr>\n",
              "  </thead>\n",
              "  <tbody>\n",
              "    <tr>\n",
              "      <th>1/2/2008</th>\n",
              "      <td>84.860001</td>\n",
              "    </tr>\n",
              "    <tr>\n",
              "      <th>1/3/2008</th>\n",
              "      <td>85.570000</td>\n",
              "    </tr>\n",
              "    <tr>\n",
              "      <th>1/4/2008</th>\n",
              "      <td>85.129997</td>\n",
              "    </tr>\n",
              "    <tr>\n",
              "      <th>1/7/2008</th>\n",
              "      <td>84.769997</td>\n",
              "    </tr>\n",
              "    <tr>\n",
              "      <th>1/8/2008</th>\n",
              "      <td>86.779999</td>\n",
              "    </tr>\n",
              "    <tr>\n",
              "      <th>...</th>\n",
              "      <td>...</td>\n",
              "    </tr>\n",
              "    <tr>\n",
              "      <th>5/8/2018</th>\n",
              "      <td>124.589996</td>\n",
              "    </tr>\n",
              "    <tr>\n",
              "      <th>5/9/2018</th>\n",
              "      <td>124.330002</td>\n",
              "    </tr>\n",
              "    <tr>\n",
              "      <th>5/10/2018</th>\n",
              "      <td>125.180000</td>\n",
              "    </tr>\n",
              "    <tr>\n",
              "      <th>5/14/2018</th>\n",
              "      <td>124.489998</td>\n",
              "    </tr>\n",
              "    <tr>\n",
              "      <th>5/16/2018</th>\n",
              "      <td>122.543800</td>\n",
              "    </tr>\n",
              "  </tbody>\n",
              "</table>\n",
              "<p>2290 rows × 1 columns</p>\n",
              "</div>"
            ],
            "text/plain": [
              "                  GLD\n",
              "Date                 \n",
              "1/2/2008    84.860001\n",
              "1/3/2008    85.570000\n",
              "1/4/2008    85.129997\n",
              "1/7/2008    84.769997\n",
              "1/8/2008    86.779999\n",
              "...               ...\n",
              "5/8/2018   124.589996\n",
              "5/9/2018   124.330002\n",
              "5/10/2018  125.180000\n",
              "5/14/2018  124.489998\n",
              "5/16/2018  122.543800\n",
              "\n",
              "[2290 rows x 1 columns]"
            ]
          },
          "metadata": {
            "tags": []
          },
          "execution_count": 9
        }
      ]
    },
    {
      "cell_type": "code",
      "metadata": {
        "id": "t9BtcRcU8mVF"
      },
      "source": [
        "data = data.dropna()"
      ],
      "execution_count": 10,
      "outputs": []
    },
    {
      "cell_type": "code",
      "metadata": {
        "colab": {
          "base_uri": "https://localhost:8080/"
        },
        "id": "5GlzLmT0Q_4Y",
        "outputId": "3303fde9-e3cf-452c-effc-d90dae95d1c8"
      },
      "source": [
        "import itertools\n",
        "p = q = range(0, 6)\n",
        "d= range(1,2)\n",
        "pdq = list(itertools.product(p, d, q))\n",
        "# print('Some parameter combinations for the Model...')\n",
        "# for i in range(1,len(pdq)):\n",
        "#     print('Model: {}'.format(pdq[i]))\n",
        "ARIMA_AIC = pd.DataFrame(columns=['param', 'AIC', 'BIC'])\n",
        "ARIMA_AIC\n",
        "for param in pdq:\n",
        "  try:\n",
        "    ARIMA_model = ARIMA(data['GLD'].values,order=param).fit()\n",
        "    print('ARIMA{} - AIC:{} - BIC:{}'.format(param,ARIMA_model.aic,ARIMA_model.bic))\n",
        "    ARIMA_AIC = ARIMA_AIC.append({'param':param, 'AIC': ARIMA_model.aic, 'BIC' : ARIMA_model.bic}, ignore_index=True)\n",
        "  except:\n",
        "    continue"
      ],
      "execution_count": 15,
      "outputs": [
        {
          "output_type": "stream",
          "text": [
            "ARIMA(0, 1, 0) - AIC:8474.279893517047 - BIC:8485.751634156952\n",
            "ARIMA(0, 1, 1) - AIC:8472.848048615713 - BIC:8490.055659575572\n",
            "ARIMA(0, 1, 2) - AIC:8473.612893603358 - BIC:8496.556374883168\n",
            "ARIMA(0, 1, 3) - AIC:8470.770294902115 - BIC:8499.449646501878\n",
            "ARIMA(0, 1, 4) - AIC:8472.692415108899 - BIC:8507.107637028614\n",
            "ARIMA(0, 1, 5) - AIC:8473.012692821263 - BIC:8513.163785060931\n",
            "ARIMA(1, 1, 0) - AIC:8472.681296516967 - BIC:8489.888907476825\n",
            "ARIMA(1, 1, 1) - AIC:8465.753153878804 - BIC:8488.696635158614\n",
            "ARIMA(2, 1, 0) - AIC:8473.229287344726 - BIC:8496.172768624536\n",
            "ARIMA(2, 1, 1) - AIC:8466.543177861982 - BIC:8495.222529461746\n",
            "ARIMA(3, 1, 0) - AIC:8470.962285515814 - BIC:8499.641637115577\n",
            "ARIMA(3, 1, 1) - AIC:8472.9605197242 - BIC:8507.375741643915\n",
            "ARIMA(3, 1, 2) - AIC:8470.489404451902 - BIC:8510.64049669157\n",
            "ARIMA(3, 1, 3) - AIC:8461.93705470591 - BIC:8507.82401726553\n",
            "ARIMA(4, 1, 0) - AIC:8472.95805589412 - BIC:8507.373277813835\n",
            "ARIMA(4, 1, 1) - AIC:8474.846278633227 - BIC:8514.997370872896\n",
            "ARIMA(4, 1, 2) - AIC:8472.827379204564 - BIC:8518.714341764184\n",
            "ARIMA(4, 1, 3) - AIC:8463.379567045005 - BIC:8515.002399924579\n"
          ],
          "name": "stdout"
        },
        {
          "output_type": "stream",
          "text": [
            "/usr/local/lib/python3.7/dist-packages/statsmodels/base/model.py:492: HessianInversionWarning: Inverting hessian failed, no bse or cov_params available\n",
            "  'available', HessianInversionWarning)\n"
          ],
          "name": "stderr"
        },
        {
          "output_type": "stream",
          "text": [
            "ARIMA(4, 1, 4) - AIC:8471.367802373721 - BIC:8528.726505573246\n",
            "ARIMA(5, 1, 0) - AIC:8472.870011310648 - BIC:8513.021103550316\n",
            "ARIMA(5, 1, 1) - AIC:8474.818146352594 - BIC:8520.705108912214\n",
            "ARIMA(5, 1, 2) - AIC:8467.772545986056 - BIC:8519.395378865629\n",
            "ARIMA(5, 1, 3) - AIC:8464.012284798322 - BIC:8521.370987997847\n",
            "ARIMA(5, 1, 4) - AIC:8464.643596690255 - BIC:8527.738170209734\n",
            "ARIMA(5, 1, 5) - AIC:8466.844004258824 - BIC:8535.674448098256\n"
          ],
          "name": "stdout"
        }
      ]
    },
    {
      "cell_type": "code",
      "metadata": {
        "colab": {
          "base_uri": "https://localhost:8080/"
        },
        "id": "Ir2pZILl8tVL",
        "outputId": "cfff883a-12c5-4549-d256-39283fc5b94b"
      },
      "source": [
        "#depending upon AIC and BIC values we go for order = (3,1,3)\n",
        "y = data[column_name]\n",
        "\n",
        "# Fit model\n",
        "model = ARIMA(y, order=(3,1,3))\n",
        "model_fit = model.fit()\n",
        "print(model_fit.summary())\n"
      ],
      "execution_count": 16,
      "outputs": [
        {
          "output_type": "stream",
          "text": [
            "/usr/local/lib/python3.7/dist-packages/statsmodels/tsa/base/tsa_model.py:219: ValueWarning: A date index has been provided, but it has no associated frequency information and so will be ignored when e.g. forecasting.\n",
            "  ' ignored when e.g. forecasting.', ValueWarning)\n",
            "/usr/local/lib/python3.7/dist-packages/statsmodels/tsa/base/tsa_model.py:219: ValueWarning: A date index has been provided, but it has no associated frequency information and so will be ignored when e.g. forecasting.\n",
            "  ' ignored when e.g. forecasting.', ValueWarning)\n"
          ],
          "name": "stderr"
        },
        {
          "output_type": "stream",
          "text": [
            "                             ARIMA Model Results                              \n",
            "==============================================================================\n",
            "Dep. Variable:                  D.GLD   No. Observations:                 2289\n",
            "Model:                 ARIMA(3, 1, 3)   Log Likelihood               -4222.969\n",
            "Method:                       css-mle   S.D. of innovations              1.530\n",
            "Date:                Mon, 26 Jul 2021   AIC                           8461.937\n",
            "Time:                        10:12:15   BIC                           8507.824\n",
            "Sample:                             1   HQIC                          8478.671\n",
            "                                                                              \n",
            "===============================================================================\n",
            "                  coef    std err          z      P>|z|      [0.025      0.975]\n",
            "-------------------------------------------------------------------------------\n",
            "const           0.0165      0.032      0.515      0.606      -0.046       0.079\n",
            "ar.L1.D.GLD    -1.3768      0.013   -106.712      0.000      -1.402      -1.351\n",
            "ar.L2.D.GLD    -1.3715      0.008   -173.357      0.000      -1.387      -1.356\n",
            "ar.L3.D.GLD    -0.9719      0.012    -78.457      0.000      -0.996      -0.948\n",
            "ma.L1.D.GLD     1.3649      0.016     82.842      0.000       1.333       1.397\n",
            "ma.L2.D.GLD     1.3811      0.007    188.420      0.000       1.367       1.395\n",
            "ma.L3.D.GLD     0.9735      0.017     58.594      0.000       0.941       1.006\n",
            "                                    Roots                                    \n",
            "=============================================================================\n",
            "                  Real          Imaginary           Modulus         Frequency\n",
            "-----------------------------------------------------------------------------\n",
            "AR.1           -1.0145           -0.0000j            1.0145           -0.5000\n",
            "AR.2           -0.1983           -0.9874j            1.0071           -0.2815\n",
            "AR.3           -0.1983           +0.9874j            1.0071            0.2815\n",
            "MA.1           -1.0272           -0.0000j            1.0272           -0.5000\n",
            "MA.2           -0.1957           -0.9807j            1.0000           -0.2814\n",
            "MA.3           -0.1957           +0.9807j            1.0000            0.2814\n",
            "-----------------------------------------------------------------------------\n"
          ],
          "name": "stdout"
        }
      ]
    },
    {
      "cell_type": "code",
      "metadata": {
        "id": "TZJVtDiJ9ioY",
        "colab": {
          "base_uri": "https://localhost:8080/"
        },
        "outputId": "38ad97ba-8661-497c-a575-e5ea3de9f517"
      },
      "source": [
        "step = 20\n",
        "predicted_auto_ARIMA = model_fit.forecast(steps = step)\n",
        "print(predicted_auto_ARIMA[0])"
      ],
      "execution_count": 17,
      "outputs": [
        {
          "output_type": "stream",
          "text": [
            "[122.74430443 122.62430987 122.54185754 122.70282478 122.78864715\n",
            " 122.60760051 122.6604637  122.83031639 122.7776586  122.64357554\n",
            " 122.81306566 122.89252236 122.75872834 122.74698259 122.9471685\n",
            " 122.89543503 122.7812687  122.89259093 123.02391839 122.87912906]\n"
          ],
          "name": "stdout"
        }
      ]
    },
    {
      "cell_type": "code",
      "metadata": {
        "id": "XYXda9a2SzAM"
      },
      "source": [
        ""
      ],
      "execution_count": null,
      "outputs": []
    }
  ]
}
